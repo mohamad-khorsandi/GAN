{
 "cells": [
  {
   "cell_type": "code",
   "execution_count": 1,
   "metadata": {},
   "outputs": [],
   "source": [
    "import torch\n",
    "import torch.nn as nn\n",
    "import torch.optim as optim\n",
    "from torch.utils.data import DataLoader\n",
    "from torchvision import datasets, transforms\n",
    "import matplotlib.pyplot as plt"
   ]
  },
  {
   "cell_type": "code",
   "execution_count": 44,
   "metadata": {},
   "outputs": [],
   "source": [
    "# Hyperparameters\n",
    "batch_size = 128\n",
    "learning_rate = 0.001\n",
    "epochs = 10"
   ]
  },
  {
   "cell_type": "code",
   "execution_count": 39,
   "metadata": {},
   "outputs": [],
   "source": [
    "class Generator(nn.Module):\n",
    "    def __init__(self):\n",
    "        super(Generator, self).__init__()\n",
    "        self.model = nn.Sequential(\n",
    "            nn.Linear(100, 256),\n",
    "            nn.ReLU(),\n",
    "            nn.Linear(256, 784),\n",
    "            nn.Tanh()\n",
    "        )\n",
    "\n",
    "    def forward(self, z):\n",
    "        return self.model(z)\n",
    "    \n",
    "class Discriminator(nn.Module):\n",
    "    def __init__(self):\n",
    "        super(Discriminator, self).__init__()\n",
    "        self.model = nn.Sequential(\n",
    "            nn.Linear(784, 256),\n",
    "            nn.LeakyReLU(0.2),\n",
    "            nn.Linear(256, 1),\n",
    "            nn.Sigmoid()\n",
    "        )\n",
    "\n",
    "    def forward(self, x):\n",
    "        return self.model(x)"
   ]
  },
  {
   "cell_type": "code",
   "execution_count": 45,
   "metadata": {},
   "outputs": [
    {
     "name": "stdout",
     "output_type": "stream",
     "text": [
      "12700\n"
     ]
    }
   ],
   "source": [
    "transform = transforms.Compose([\n",
    "    transforms.ToTensor(),\n",
    "    transforms.Normalize((0.5,), (0.5,))\n",
    "])\n",
    "\n",
    "mnist_dataset = datasets.MNIST(root='./data', train=True, transform=transform, download=True)\n",
    "mnist_dataset = [item for item in mnist_dataset if item[1] in [1,2]]\n",
    "print(len(mnist_dataset))\n",
    "dataloader = DataLoader(mnist_dataset, batch_size=batch_size, shuffle=True)"
   ]
  },
  {
   "cell_type": "code",
   "execution_count": 41,
   "metadata": {},
   "outputs": [
    {
     "name": "stdout",
     "output_type": "stream",
     "text": [
      "[Epoch 0/10] [Batch 0/199] [D loss: 1.5425066947937012] [G loss: 0.760860800743103]\n",
      "[Epoch 0/10] [Batch 100/199] [D loss: 0.11813090741634369] [G loss: 4.518899440765381]\n",
      "[Epoch 1/10] [Batch 0/199] [D loss: 0.07613855600357056] [G loss: 5.09567403793335]\n",
      "[Epoch 1/10] [Batch 100/199] [D loss: 0.3107108473777771] [G loss: 1.751709222793579]\n",
      "[Epoch 2/10] [Batch 0/199] [D loss: 0.21259623765945435] [G loss: 6.314806938171387]\n",
      "[Epoch 2/10] [Batch 100/199] [D loss: 0.12076348066329956] [G loss: 3.8902902603149414]\n",
      "[Epoch 3/10] [Batch 0/199] [D loss: 0.1953432410955429] [G loss: 6.578395366668701]\n",
      "[Epoch 3/10] [Batch 100/199] [D loss: 0.07314249873161316] [G loss: 8.91012954711914]\n",
      "[Epoch 4/10] [Batch 0/199] [D loss: 0.2609642446041107] [G loss: 6.693849563598633]\n",
      "[Epoch 4/10] [Batch 100/199] [D loss: 0.048039719462394714] [G loss: 9.919692039489746]\n",
      "[Epoch 5/10] [Batch 0/199] [D loss: 0.10160818696022034] [G loss: 6.733593940734863]\n",
      "[Epoch 5/10] [Batch 100/199] [D loss: 0.3796832859516144] [G loss: 6.537772178649902]\n",
      "[Epoch 6/10] [Batch 0/199] [D loss: 0.04477972537279129] [G loss: 9.627330780029297]\n",
      "[Epoch 6/10] [Batch 100/199] [D loss: 0.11283464729785919] [G loss: 9.53695011138916]\n",
      "[Epoch 7/10] [Batch 0/199] [D loss: 0.18829262256622314] [G loss: 6.707660675048828]\n",
      "[Epoch 7/10] [Batch 100/199] [D loss: 0.3009974956512451] [G loss: 7.010124206542969]\n",
      "[Epoch 8/10] [Batch 0/199] [D loss: 0.31986120343208313] [G loss: 8.172088623046875]\n",
      "[Epoch 8/10] [Batch 100/199] [D loss: 0.5125559568405151] [G loss: 9.425748825073242]\n",
      "[Epoch 9/10] [Batch 0/199] [D loss: 0.17852482199668884] [G loss: 6.669332981109619]\n",
      "[Epoch 9/10] [Batch 100/199] [D loss: 0.12938904762268066] [G loss: 6.012369632720947]\n"
     ]
    }
   ],
   "source": [
    "\n",
    "generator = Generator()\n",
    "discriminator = Discriminator()\n",
    "#(y * log(p) + (1 - y) * log(1 - p))\n",
    "loss_func = nn.BCELoss()\n",
    "optimizer_G = optim.Adam(generator.parameters(), lr=learning_rate)\n",
    "optimizer_D = optim.Adam(discriminator.parameters(), lr=learning_rate)\n",
    "\n",
    "for epoch in range(epochs):\n",
    "    for i, (real_images, _) in enumerate(dataloader):\n",
    "        cur_bs = real_images.shape[0]\n",
    "        # Generate fake picture\n",
    "        z = torch.randn(cur_bs, 100)\n",
    "        fake_images = generator(z)\n",
    "\n",
    "        # Train discriminator\n",
    "        optimizer_D.zero_grad()\n",
    "\n",
    "        ons_vec = torch.ones(cur_bs, 1)\n",
    "        zeros_vec = torch.zeros(cur_bs, 1)\n",
    "        \n",
    "        real_outputs = discriminator(real_images.view(cur_bs, -1))\n",
    "        fake_outputs = discriminator(fake_images.detach().view(cur_bs, -1))\n",
    "\n",
    "        loss_real = loss_func(real_outputs, ons_vec)\n",
    "        loss_fake = loss_func(fake_outputs, zeros_vec)\n",
    "        loss_discriminator = loss_real + loss_fake\n",
    "\n",
    "        loss_discriminator.backward()\n",
    "        optimizer_D.step()\n",
    "\n",
    "        # Train Generator\n",
    "        optimizer_G.zero_grad()\n",
    "\n",
    "        generated_outputs = discriminator(fake_images.view(cur_bs, -1))\n",
    "        loss_generator = loss_func(generated_outputs, ons_vec)\n",
    "\n",
    "        loss_generator.backward()\n",
    "        optimizer_G.step()\n",
    "\n",
    "        if i % 100 == 0:\n",
    "            print(f\"[Epoch {epoch}/{epochs}] [Batch {i}/{len(dataloader)}] [D loss: {loss_discriminator.item()}] [G loss: {loss_generator.item()}]\")\n"
   ]
  },
  {
   "cell_type": "code",
   "execution_count": 46,
   "metadata": {},
   "outputs": [
    {
     "data": {
      "image/png": "[encoded data removed]",
      "text/plain": [
       "<Figure size 800x800 with 16 Axes>"
      ]
     },
     "metadata": {},
     "output_type": "display_data"
    }
   ],
   "source": [
    "# Generate and save some sample images\n",
    "with torch.no_grad():\n",
    "    z = torch.randn(16, 100)\n",
    "    generated_samples = generator(z)\n",
    "    generated_samples = generated_samples.view(-1, 1, 28, 28).clamp(0, 1).numpy()\n",
    "\n",
    "    fig, axes = plt.subplots(4, 4, figsize=(8, 8))\n",
    "    for ax, img in zip(axes.flatten(), generated_samples):\n",
    "        ax.imshow(img[0], cmap='gray')\n",
    "        ax.axis('off')\n",
    "    plt.show()"
   ]
  },
  {
   "cell_type": "code",
   "execution_count": null,
   "metadata": {},
   "outputs": [],
   "source": []
  }
 ],
 "metadata": {
  "kernelspec": {
   "display_name": "ai-env",
   "language": "python",
   "name": "python3"
  },
  "language_info": {
   "codemirror_mode": {
    "name": "ipython",
    "version": 3
   },
   "file_extension": ".py",
   "mimetype": "text/x-python",
   "name": "python",
   "nbconvert_exporter": "python",
   "pygments_lexer": "ipython3",
   "version": "3.11.3"
  }
 },
 "nbformat": 4,
 "nbformat_minor": 2
}
