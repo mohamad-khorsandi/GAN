{
 "cells": [
  {
   "cell_type": "code",
   "execution_count": 24,
   "metadata": {},
   "outputs": [],
   "source": [
    "import torch\n",
    "import torch.nn as nn\n",
    "import torch.optim as optim\n",
    "from torch.utils.data import DataLoader\n",
    "from torchvision import datasets, transforms\n",
    "import matplotlib.pyplot as plt"
   ]
  },
  {
   "cell_type": "code",
   "execution_count": 66,
   "metadata": {},
   "outputs": [],
   "source": [
    "# Hyperparameters\n",
    "batch_size = 256\n",
    "learning_rate = 0.001\n",
    "epochs = 20"
   ]
  },
  {
   "cell_type": "code",
   "execution_count": 67,
   "metadata": {},
   "outputs": [],
   "source": [
    "class Generator(nn.Module):\n",
    "    def __init__(self):\n",
    "        super(Generator, self).__init__()\n",
    "        self.model = nn.Sequential(\n",
    "            nn.Linear(100, 256),\n",
    "            nn.ReLU(),\n",
    "            nn.Linear(256, 784),\n",
    "            nn.Tanh()\n",
    "        )\n",
    "\n",
    "    def forward(self, z):\n",
    "        return self.model(z)\n",
    "    \n",
    "class Discriminator(nn.Module):\n",
    "    def __init__(self):\n",
    "        super(Discriminator, self).__init__()\n",
    "        self.model = nn.Sequential(\n",
    "            nn.Linear(784, 256),\n",
    "            nn.LeakyReLU(0.2),\n",
    "            nn.Linear(256, 1),\n",
    "            nn.Sigmoid()\n",
    "        )\n",
    "\n",
    "    def forward(self, x):\n",
    "        return self.model(x)"
   ]
  },
  {
   "cell_type": "code",
   "execution_count": 68,
   "metadata": {},
   "outputs": [
    {
     "ename": "KeyboardInterrupt",
     "evalue": "",
     "output_type": "error",
     "traceback": [
      "\u001b[0;31m---------------------------------------------------------------------------\u001b[0m",
      "\u001b[0;31mKeyboardInterrupt\u001b[0m                         Traceback (most recent call last)",
      "Cell \u001b[0;32mIn[68], line 7\u001b[0m\n\u001b[1;32m      1\u001b[0m transform \u001b[38;5;241m=\u001b[39m transforms\u001b[38;5;241m.\u001b[39mCompose([\n\u001b[1;32m      2\u001b[0m     transforms\u001b[38;5;241m.\u001b[39mToTensor(),\n\u001b[1;32m      3\u001b[0m     transforms\u001b[38;5;241m.\u001b[39mNormalize((\u001b[38;5;241m0.5\u001b[39m,), (\u001b[38;5;241m0.5\u001b[39m,))\n\u001b[1;32m      4\u001b[0m ])\n\u001b[1;32m      6\u001b[0m mnist_dataset \u001b[38;5;241m=\u001b[39m datasets\u001b[38;5;241m.\u001b[39mMNIST(root\u001b[38;5;241m=\u001b[39m\u001b[38;5;124m'\u001b[39m\u001b[38;5;124m./data\u001b[39m\u001b[38;5;124m'\u001b[39m, train\u001b[38;5;241m=\u001b[39m\u001b[38;5;28;01mTrue\u001b[39;00m, transform\u001b[38;5;241m=\u001b[39mtransform, download\u001b[38;5;241m=\u001b[39m\u001b[38;5;28;01mTrue\u001b[39;00m)\n\u001b[0;32m----> 7\u001b[0m mnist_dataset \u001b[38;5;241m=\u001b[39m \u001b[38;5;28;43mlist\u001b[39;49m\u001b[43m(\u001b[49m\u001b[38;5;28;43mfilter\u001b[39;49m\u001b[43m(\u001b[49m\u001b[38;5;28;43;01mlambda\u001b[39;49;00m\u001b[43m \u001b[49m\u001b[43mx\u001b[49m\u001b[43m:\u001b[49m\u001b[43m \u001b[49m\u001b[43mx\u001b[49m\u001b[43m[\u001b[49m\u001b[38;5;241;43m1\u001b[39;49m\u001b[43m]\u001b[49m\u001b[43m \u001b[49m\u001b[38;5;129;43;01min\u001b[39;49;00m\u001b[43m \u001b[49m\u001b[43m[\u001b[49m\u001b[38;5;241;43m1\u001b[39;49m\u001b[43m,\u001b[49m\u001b[38;5;241;43m2\u001b[39;49m\u001b[43m]\u001b[49m\u001b[43m,\u001b[49m\u001b[43m \u001b[49m\u001b[43mmnist_dataset\u001b[49m\u001b[43m)\u001b[49m\u001b[43m)\u001b[49m\n\u001b[1;32m      8\u001b[0m \u001b[38;5;28mprint\u001b[39m(\u001b[38;5;28mlen\u001b[39m(mnist_dataset))\n\u001b[1;32m      9\u001b[0m dataloader \u001b[38;5;241m=\u001b[39m DataLoader(mnist_dataset, batch_size\u001b[38;5;241m=\u001b[39mbatch_size, shuffle\u001b[38;5;241m=\u001b[39m\u001b[38;5;28;01mTrue\u001b[39;00m)\n",
      "File \u001b[0;32m~/miniconda3/envs/ai-env/lib/python3.11/site-packages/torchvision/datasets/mnist.py:145\u001b[0m, in \u001b[0;36mMNIST.__getitem__\u001b[0;34m(self, index)\u001b[0m\n\u001b[1;32m    142\u001b[0m img \u001b[38;5;241m=\u001b[39m Image\u001b[38;5;241m.\u001b[39mfromarray(img\u001b[38;5;241m.\u001b[39mnumpy(), mode\u001b[38;5;241m=\u001b[39m\u001b[38;5;124m\"\u001b[39m\u001b[38;5;124mL\u001b[39m\u001b[38;5;124m\"\u001b[39m)\n\u001b[1;32m    144\u001b[0m \u001b[38;5;28;01mif\u001b[39;00m \u001b[38;5;28mself\u001b[39m\u001b[38;5;241m.\u001b[39mtransform \u001b[38;5;129;01mis\u001b[39;00m \u001b[38;5;129;01mnot\u001b[39;00m \u001b[38;5;28;01mNone\u001b[39;00m:\n\u001b[0;32m--> 145\u001b[0m     img \u001b[38;5;241m=\u001b[39m \u001b[38;5;28;43mself\u001b[39;49m\u001b[38;5;241;43m.\u001b[39;49m\u001b[43mtransform\u001b[49m\u001b[43m(\u001b[49m\u001b[43mimg\u001b[49m\u001b[43m)\u001b[49m\n\u001b[1;32m    147\u001b[0m \u001b[38;5;28;01mif\u001b[39;00m \u001b[38;5;28mself\u001b[39m\u001b[38;5;241m.\u001b[39mtarget_transform \u001b[38;5;129;01mis\u001b[39;00m \u001b[38;5;129;01mnot\u001b[39;00m \u001b[38;5;28;01mNone\u001b[39;00m:\n\u001b[1;32m    148\u001b[0m     target \u001b[38;5;241m=\u001b[39m \u001b[38;5;28mself\u001b[39m\u001b[38;5;241m.\u001b[39mtarget_transform(target)\n",
      "File \u001b[0;32m~/miniconda3/envs/ai-env/lib/python3.11/site-packages/torchvision/transforms/transforms.py:95\u001b[0m, in \u001b[0;36mCompose.__call__\u001b[0;34m(self, img)\u001b[0m\n\u001b[1;32m     93\u001b[0m \u001b[38;5;28;01mdef\u001b[39;00m \u001b[38;5;21m__call__\u001b[39m(\u001b[38;5;28mself\u001b[39m, img):\n\u001b[1;32m     94\u001b[0m     \u001b[38;5;28;01mfor\u001b[39;00m t \u001b[38;5;129;01min\u001b[39;00m \u001b[38;5;28mself\u001b[39m\u001b[38;5;241m.\u001b[39mtransforms:\n\u001b[0;32m---> 95\u001b[0m         img \u001b[38;5;241m=\u001b[39m \u001b[43mt\u001b[49m\u001b[43m(\u001b[49m\u001b[43mimg\u001b[49m\u001b[43m)\u001b[49m\n\u001b[1;32m     96\u001b[0m     \u001b[38;5;28;01mreturn\u001b[39;00m img\n",
      "File \u001b[0;32m~/miniconda3/envs/ai-env/lib/python3.11/site-packages/torchvision/transforms/transforms.py:137\u001b[0m, in \u001b[0;36mToTensor.__call__\u001b[0;34m(self, pic)\u001b[0m\n\u001b[1;32m    129\u001b[0m \u001b[38;5;28;01mdef\u001b[39;00m \u001b[38;5;21m__call__\u001b[39m(\u001b[38;5;28mself\u001b[39m, pic):\n\u001b[1;32m    130\u001b[0m \u001b[38;5;250m    \u001b[39m\u001b[38;5;124;03m\"\"\"\u001b[39;00m\n\u001b[1;32m    131\u001b[0m \u001b[38;5;124;03m    Args:\u001b[39;00m\n\u001b[1;32m    132\u001b[0m \u001b[38;5;124;03m        pic (PIL Image or numpy.ndarray): Image to be converted to tensor.\u001b[39;00m\n\u001b[0;32m   (...)\u001b[0m\n\u001b[1;32m    135\u001b[0m \u001b[38;5;124;03m        Tensor: Converted image.\u001b[39;00m\n\u001b[1;32m    136\u001b[0m \u001b[38;5;124;03m    \"\"\"\u001b[39;00m\n\u001b[0;32m--> 137\u001b[0m     \u001b[38;5;28;01mreturn\u001b[39;00m \u001b[43mF\u001b[49m\u001b[38;5;241;43m.\u001b[39;49m\u001b[43mto_tensor\u001b[49m\u001b[43m(\u001b[49m\u001b[43mpic\u001b[49m\u001b[43m)\u001b[49m\n",
      "File \u001b[0;32m~/miniconda3/envs/ai-env/lib/python3.11/site-packages/torchvision/transforms/functional.py:138\u001b[0m, in \u001b[0;36mto_tensor\u001b[0;34m(pic)\u001b[0m\n\u001b[1;32m    126\u001b[0m \u001b[38;5;250m\u001b[39m\u001b[38;5;124;03m\"\"\"Convert a ``PIL Image`` or ``numpy.ndarray`` to tensor.\u001b[39;00m\n\u001b[1;32m    127\u001b[0m \u001b[38;5;124;03mThis function does not support torchscript.\u001b[39;00m\n\u001b[1;32m    128\u001b[0m \n\u001b[0;32m   (...)\u001b[0m\n\u001b[1;32m    135\u001b[0m \u001b[38;5;124;03m    Tensor: Converted image.\u001b[39;00m\n\u001b[1;32m    136\u001b[0m \u001b[38;5;124;03m\"\"\"\u001b[39;00m\n\u001b[1;32m    137\u001b[0m \u001b[38;5;28;01mif\u001b[39;00m \u001b[38;5;129;01mnot\u001b[39;00m torch\u001b[38;5;241m.\u001b[39mjit\u001b[38;5;241m.\u001b[39mis_scripting() \u001b[38;5;129;01mand\u001b[39;00m \u001b[38;5;129;01mnot\u001b[39;00m torch\u001b[38;5;241m.\u001b[39mjit\u001b[38;5;241m.\u001b[39mis_tracing():\n\u001b[0;32m--> 138\u001b[0m     \u001b[43m_log_api_usage_once\u001b[49m\u001b[43m(\u001b[49m\u001b[43mto_tensor\u001b[49m\u001b[43m)\u001b[49m\n\u001b[1;32m    139\u001b[0m \u001b[38;5;28;01mif\u001b[39;00m \u001b[38;5;129;01mnot\u001b[39;00m (F_pil\u001b[38;5;241m.\u001b[39m_is_pil_image(pic) \u001b[38;5;129;01mor\u001b[39;00m _is_numpy(pic)):\n\u001b[1;32m    140\u001b[0m     \u001b[38;5;28;01mraise\u001b[39;00m \u001b[38;5;167;01mTypeError\u001b[39;00m(\u001b[38;5;124mf\u001b[39m\u001b[38;5;124m\"\u001b[39m\u001b[38;5;124mpic should be PIL Image or ndarray. Got \u001b[39m\u001b[38;5;132;01m{\u001b[39;00m\u001b[38;5;28mtype\u001b[39m(pic)\u001b[38;5;132;01m}\u001b[39;00m\u001b[38;5;124m\"\u001b[39m)\n",
      "File \u001b[0;32m~/miniconda3/envs/ai-env/lib/python3.11/site-packages/torchvision/utils.py:562\u001b[0m, in \u001b[0;36m_log_api_usage_once\u001b[0;34m(obj)\u001b[0m\n\u001b[1;32m    560\u001b[0m \u001b[38;5;28;01mif\u001b[39;00m \u001b[38;5;28misinstance\u001b[39m(obj, FunctionType):\n\u001b[1;32m    561\u001b[0m     name \u001b[38;5;241m=\u001b[39m obj\u001b[38;5;241m.\u001b[39m\u001b[38;5;18m__name__\u001b[39m\n\u001b[0;32m--> 562\u001b[0m \u001b[43mtorch\u001b[49m\u001b[38;5;241;43m.\u001b[39;49m\u001b[43m_C\u001b[49m\u001b[38;5;241;43m.\u001b[39;49m\u001b[43m_log_api_usage_once\u001b[49m\u001b[43m(\u001b[49m\u001b[38;5;124;43mf\u001b[39;49m\u001b[38;5;124;43m\"\u001b[39;49m\u001b[38;5;132;43;01m{\u001b[39;49;00m\u001b[43mmodule\u001b[49m\u001b[38;5;132;43;01m}\u001b[39;49;00m\u001b[38;5;124;43m.\u001b[39;49m\u001b[38;5;132;43;01m{\u001b[39;49;00m\u001b[43mname\u001b[49m\u001b[38;5;132;43;01m}\u001b[39;49;00m\u001b[38;5;124;43m\"\u001b[39;49m\u001b[43m)\u001b[49m\n",
      "\u001b[0;31mKeyboardInterrupt\u001b[0m: "
     ]
    }
   ],
   "source": [
    "transform = transforms.Compose([\n",
    "    transforms.ToTensor(),\n",
    "    transforms.Normalize((0.5,), (0.5,))\n",
    "])\n",
    "\n",
    "mnist_dataset = datasets.MNIST(root='./data', train=True, transform=transform, download=True)\n",
    "mnist_dataset = list(filter(lambda x: x[1] in [1,2], mnist_dataset))\n",
    "print(len(mnist_dataset))\n",
    "dataloader = DataLoader(mnist_dataset, batch_size=batch_size, shuffle=True)"
   ]
  },
  {
   "cell_type": "code",
   "execution_count": 69,
   "metadata": {},
   "outputs": [
    {
     "name": "stdout",
     "output_type": "stream",
     "text": [
      "[Epoch 0/20] [Batch 0/106] [D loss: 1.3684730529785156] [G loss: 0.7264608144760132]\n",
      "[Epoch 0/20] [Batch 100/106] [D loss: 0.16047653555870056] [G loss: 4.306291580200195]\n",
      "[Epoch 1/20] [Batch 0/106] [D loss: 0.1934034377336502] [G loss: 4.373029708862305]\n",
      "[Epoch 1/20] [Batch 100/106] [D loss: 0.3697589933872223] [G loss: 2.1530890464782715]\n",
      "[Epoch 2/20] [Batch 0/106] [D loss: 0.32254138588905334] [G loss: 1.774085521697998]\n",
      "[Epoch 2/20] [Batch 100/106] [D loss: 0.5663562417030334] [G loss: 1.8599668741226196]\n",
      "[Epoch 3/20] [Batch 0/106] [D loss: 0.7050473690032959] [G loss: 1.7461076974868774]\n",
      "[Epoch 3/20] [Batch 100/106] [D loss: 0.14273865520954132] [G loss: 4.655003547668457]\n",
      "[Epoch 4/20] [Batch 0/106] [D loss: 0.1465809941291809] [G loss: 5.049220561981201]\n",
      "[Epoch 4/20] [Batch 100/106] [D loss: 0.08027864992618561] [G loss: 5.295048236846924]\n",
      "[Epoch 5/20] [Batch 0/106] [D loss: 0.231972336769104] [G loss: 4.557861328125]\n",
      "[Epoch 5/20] [Batch 100/106] [D loss: 0.23110872507095337] [G loss: 9.614554405212402]\n",
      "[Epoch 6/20] [Batch 0/106] [D loss: 0.3758130967617035] [G loss: 9.39445972442627]\n",
      "[Epoch 6/20] [Batch 100/106] [D loss: 0.16796469688415527] [G loss: 10.376220703125]\n",
      "[Epoch 7/20] [Batch 0/106] [D loss: 0.06147804483771324] [G loss: 11.173974990844727]\n",
      "[Epoch 7/20] [Batch 100/106] [D loss: 0.042610183358192444] [G loss: 9.049609184265137]\n",
      "[Epoch 8/20] [Batch 0/106] [D loss: 0.041794512420892715] [G loss: 9.215229988098145]\n",
      "[Epoch 8/20] [Batch 100/106] [D loss: 0.2018844038248062] [G loss: 9.920434951782227]\n",
      "[Epoch 9/20] [Batch 0/106] [D loss: 0.3712535500526428] [G loss: 10.675359725952148]\n",
      "[Epoch 9/20] [Batch 100/106] [D loss: 0.17592203617095947] [G loss: 11.402791023254395]\n",
      "[Epoch 10/20] [Batch 0/106] [D loss: 0.17956531047821045] [G loss: 11.173095703125]\n",
      "[Epoch 10/20] [Batch 100/106] [D loss: 0.1393367052078247] [G loss: 7.267951488494873]\n",
      "[Epoch 11/20] [Batch 0/106] [D loss: 0.2015238106250763] [G loss: 6.438342571258545]\n",
      "[Epoch 11/20] [Batch 100/106] [D loss: 0.07791925966739655] [G loss: 9.53863525390625]\n",
      "[Epoch 12/20] [Batch 0/106] [D loss: 0.04228448122739792] [G loss: 10.925912857055664]\n",
      "[Epoch 12/20] [Batch 100/106] [D loss: 0.04106515645980835] [G loss: 10.800293922424316]\n",
      "[Epoch 13/20] [Batch 0/106] [D loss: 0.027737485244870186] [G loss: 10.990126609802246]\n",
      "[Epoch 13/20] [Batch 100/106] [D loss: 0.05283217877149582] [G loss: 6.923783779144287]\n",
      "[Epoch 14/20] [Batch 0/106] [D loss: 0.056164488196372986] [G loss: 6.65251350402832]\n",
      "[Epoch 14/20] [Batch 100/106] [D loss: 0.21680273115634918] [G loss: 8.009312629699707]\n",
      "[Epoch 15/20] [Batch 0/106] [D loss: 0.10917119681835175] [G loss: 8.355419158935547]\n",
      "[Epoch 15/20] [Batch 100/106] [D loss: 0.09513629972934723] [G loss: 9.27856159210205]\n",
      "[Epoch 16/20] [Batch 0/106] [D loss: 0.056878022849559784] [G loss: 8.260635375976562]\n",
      "[Epoch 16/20] [Batch 100/106] [D loss: 0.17091786861419678] [G loss: 4.847935676574707]\n",
      "[Epoch 17/20] [Batch 0/106] [D loss: 0.22557249665260315] [G loss: 5.590462684631348]\n",
      "[Epoch 17/20] [Batch 100/106] [D loss: 0.076467365026474] [G loss: 6.876840114593506]\n",
      "[Epoch 18/20] [Batch 0/106] [D loss: 0.11567921936511993] [G loss: 5.742455005645752]\n",
      "[Epoch 18/20] [Batch 100/106] [D loss: 0.3075195550918579] [G loss: 5.7431159019470215]\n",
      "[Epoch 19/20] [Batch 0/106] [D loss: 0.40507400035858154] [G loss: 6.482274532318115]\n",
      "[Epoch 19/20] [Batch 100/106] [D loss: 0.24926385283470154] [G loss: 7.485283851623535]\n"
     ]
    }
   ],
   "source": [
    "\n",
    "generator = Generator()\n",
    "discriminator = Discriminator()\n",
    "\n",
    "loss_func = nn.BCELoss()\n",
    "optimizer_G = optim.Adam(generator.parameters(), lr=learning_rate)\n",
    "optimizer_D = optim.Adam(discriminator.parameters(), lr=learning_rate)\n",
    "\n",
    "for epoch in range(epochs):\n",
    "    for i, (real_images, _) in enumerate(dataloader):\n",
    "        cur_bs = real_images.shape[0]\n",
    "        # Generate fake picture\n",
    "        z = torch.randn(cur_bs, 100)\n",
    "        fake_images = generator(z)\n",
    "        assert fake_images.shape == (cur_bs, 28*28)\n",
    "        assert real_images.shape == (cur_bs, 1, 28, 28)\n",
    "        # Train discriminator\n",
    "        optimizer_D.zero_grad()\n",
    "\n",
    "        ons_vec = torch.ones(cur_bs, 1)\n",
    "        zeros_vec = torch.zeros(cur_bs, 1)\n",
    "        \n",
    "        real_outputs = discriminator(real_images.view(cur_bs, -1))\n",
    "        fake_outputs = discriminator(fake_images.detach().view(cur_bs, -1))\n",
    "\n",
    "        assert real_outputs.shape == (cur_bs, 1)\n",
    "        assert fake_outputs.shape == (cur_bs, 1)\n",
    "\n",
    "        loss_real = loss_func(real_outputs, ons_vec)\n",
    "        loss_fake = loss_func(fake_outputs, zeros_vec)\n",
    "        loss_discriminator = loss_real + loss_fake\n",
    "\n",
    "        loss_discriminator.backward()\n",
    "        optimizer_D.step()\n",
    "\n",
    "        # Train Generator\n",
    "        optimizer_G.zero_grad()\n",
    "\n",
    "        generated_outputs = discriminator(fake_images.view(cur_bs, -1))\n",
    "        loss_generator = loss_func(generated_outputs, ons_vec)\n",
    "\n",
    "        loss_generator.backward()\n",
    "        optimizer_G.step()\n",
    "\n",
    "        if i % 100 == 0:\n",
    "            print(f\"[Epoch {epoch}/{epochs}] [Batch {i}/{len(dataloader)}] [D loss: {loss_discriminator.item()}] [G loss: {loss_generator.item()}]\")\n"
   ]
  },
  {
   "cell_type": "code",
   "execution_count": 70,
   "metadata": {},
   "outputs": [
    {
     "data": {
      "image/png": "[encoded data removed]",
      "text/plain": [
       "<Figure size 800x800 with 16 Axes>"
      ]
     },
     "metadata": {},
     "output_type": "display_data"
    }
   ],
   "source": [
    "# Generate and save some sample images\n",
    "with torch.no_grad():\n",
    "    z = torch.randn(16, 100)\n",
    "    generated_samples = generator(z)\n",
    "    generated_samples = generated_samples.view(-1, 1, 28, 28).clamp(0, 1).numpy()\n",
    "\n",
    "    fig, axes = plt.subplots(4, 4, figsize=(8, 8))\n",
    "    for ax, img in zip(axes.flatten(), generated_samples):\n",
    "        ax.imshow(img[0], cmap='gray')\n",
    "        ax.axis('off')\n",
    "    plt.show()"
   ]
  },
  {
   "cell_type": "code",
   "execution_count": null,
   "metadata": {},
   "outputs": [],
   "source": []
  }
 ],
 "metadata": {
  "kernelspec": {
   "display_name": "ai-env",
   "language": "python",
   "name": "python3"
  },
  "language_info": {
   "codemirror_mode": {
    "name": "ipython",
    "version": 3
   },
   "file_extension": ".py",
   "mimetype": "text/x-python",
   "name": "python",
   "nbconvert_exporter": "python",
   "pygments_lexer": "ipython3",
   "version": "3.11.3"
  }
 },
 "nbformat": 4,
 "nbformat_minor": 2
}
